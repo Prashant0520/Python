{
 "cells": [
  {
   "cell_type": "code",
   "execution_count": 1,
   "id": "3aa88aed",
   "metadata": {
    "ExecuteTime": {
     "end_time": "2023-07-07T20:36:28.352782Z",
     "start_time": "2023-07-07T20:36:28.329058Z"
    }
   },
   "outputs": [],
   "source": [
    "#Program To find sum from [1-N] using while loop"
   ]
  },
  {
   "cell_type": "code",
   "execution_count": null,
   "id": "e3485ff7",
   "metadata": {
    "ExecuteTime": {
     "start_time": "2023-07-07T20:38:53.672Z"
    }
   },
   "outputs": [],
   "source": [
    "n=int(input(\"Enter a no. upto which you want sum\"))\n",
    "i=1\n",
    "sum=0\n",
    "while(i<=n):\n",
    "    sum=sum+i\n",
    "    i=i+1\n",
    "print(\"Sum=\",sum)"
   ]
  },
  {
   "cell_type": "code",
   "execution_count": null,
   "id": "f3d7250c",
   "metadata": {},
   "outputs": [],
   "source": []
  }
 ],
 "metadata": {
  "kernelspec": {
   "display_name": "Python 3 (ipykernel)",
   "language": "python",
   "name": "python3"
  },
  "language_info": {
   "codemirror_mode": {
    "name": "ipython",
    "version": 3
   },
   "file_extension": ".py",
   "mimetype": "text/x-python",
   "name": "python",
   "nbconvert_exporter": "python",
   "pygments_lexer": "ipython3",
   "version": "3.9.16"
  }
 },
 "nbformat": 4,
 "nbformat_minor": 5
}
