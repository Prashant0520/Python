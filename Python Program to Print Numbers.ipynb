{
 "cells": [
  {
   "cell_type": "markdown",
   "id": "871e5ebd",
   "metadata": {},
   "source": [
    "# Control Statement in Python"
   ]
  },
  {
   "cell_type": "markdown",
   "id": "098127f8",
   "metadata": {
    "ExecuteTime": {
     "end_time": "2023-07-07T20:01:43.909214Z",
     "start_time": "2023-07-07T20:01:43.893697Z"
    }
   },
   "source": [
    "1 Selection Statement-if                                                                                                       \n",
    "2 Looping Condition-while, for"
   ]
  },
  {
   "cell_type": "markdown",
   "id": "168c5e22",
   "metadata": {
    "ExecuteTime": {
     "end_time": "2023-07-07T20:05:04.645832Z",
     "start_time": "2023-07-07T20:05:04.582948Z"
    }
   },
   "source": [
    "## While Loop\n",
    "Control Statement which keeps on executing a single or block of statement 'N' times till the condition is true.Once the condition is false excution is terminated"
   ]
  },
  {
   "cell_type": "markdown",
   "id": "de58faaa",
   "metadata": {},
   "source": [
    "## 3 Part of while looping statement\n",
    "Initialization                                                                                                                  \n",
    "Condition                                                                                                                       \n",
    "Increment/Decrement"
   ]
  },
  {
   "cell_type": "code",
   "execution_count": 4,
   "id": "7df87b50",
   "metadata": {
    "ExecuteTime": {
     "end_time": "2023-07-07T20:11:41.309187Z",
     "start_time": "2023-07-07T20:11:41.293150Z"
    }
   },
   "outputs": [],
   "source": [
    "# Que.1 Program to print [1-N]"
   ]
  },
  {
   "cell_type": "code",
   "execution_count": 6,
   "id": "892ea651",
   "metadata": {
    "ExecuteTime": {
     "end_time": "2023-07-07T20:14:25.130433Z",
     "start_time": "2023-07-07T20:14:22.751685Z"
    }
   },
   "outputs": [
    {
     "name": "stdout",
     "output_type": "stream",
     "text": [
      "Enter Number upto which u want to print10\n",
      "1\n",
      "2\n",
      "3\n",
      "4\n",
      "5\n",
      "6\n",
      "7\n",
      "8\n",
      "9\n",
      "10\n"
     ]
    }
   ],
   "source": [
    "n=int(input(\"Enter Number upto which u want to print\"))\n",
    "i=1\n",
    "while(i<=n):\n",
    "    print(i)\n",
    "    i=i+1"
   ]
  },
  {
   "cell_type": "code",
   "execution_count": 7,
   "id": "a3af16d5",
   "metadata": {
    "ExecuteTime": {
     "end_time": "2023-07-07T20:15:06.591424Z",
     "start_time": "2023-07-07T20:15:06.575220Z"
    }
   },
   "outputs": [],
   "source": [
    "# Que.2 Program to print [N-1]"
   ]
  },
  {
   "cell_type": "code",
   "execution_count": 8,
   "id": "2e66e7f3",
   "metadata": {
    "ExecuteTime": {
     "end_time": "2023-07-07T20:16:25.540971Z",
     "start_time": "2023-07-07T20:16:22.145955Z"
    }
   },
   "outputs": [
    {
     "name": "stdout",
     "output_type": "stream",
     "text": [
      "Enter Number upto which u want to print10\n",
      "10\n",
      "9\n",
      "8\n",
      "7\n",
      "6\n",
      "5\n",
      "4\n",
      "3\n",
      "2\n",
      "1\n"
     ]
    }
   ],
   "source": [
    "n=int(input(\"Enter Number upto which u want to print\"))\n",
    "while(n>=1):\n",
    "    print(n)\n",
    "    n=n-1"
   ]
  }
 ],
 "metadata": {
  "kernelspec": {
   "display_name": "Python 3 (ipykernel)",
   "language": "python",
   "name": "python3"
  },
  "language_info": {
   "codemirror_mode": {
    "name": "ipython",
    "version": 3
   },
   "file_extension": ".py",
   "mimetype": "text/x-python",
   "name": "python",
   "nbconvert_exporter": "python",
   "pygments_lexer": "ipython3",
   "version": "3.9.16"
  }
 },
 "nbformat": 4,
 "nbformat_minor": 5
}
